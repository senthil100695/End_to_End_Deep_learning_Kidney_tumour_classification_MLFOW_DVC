{
 "cells": [
  {
   "cell_type": "code",
   "execution_count": 1,
   "metadata": {},
   "outputs": [
    {
     "data": {
      "text/plain": [
       "'d:\\\\Projects\\\\Deep_learning\\\\End_to_End_Deep_learning_Kidney_tumour_classification_MLFOW_DVC'"
      ]
     },
     "execution_count": 1,
     "metadata": {},
     "output_type": "execute_result"
    }
   ],
   "source": [
    "import os \n",
    "os.chdir('../')\n",
    "%pwd"
   ]
  },
  {
   "cell_type": "code",
   "execution_count": 2,
   "metadata": {},
   "outputs": [],
   "source": [
    "os.environ['MLFLOW_TRACKING_URI'] = \"https://dagshub.com/senthil100695/End_to_End_Deep_learning_Kidney_tumour_classification_MLFOW_DVC.mlflow\"\n",
    "os.environ['MLFLOW_TRACKING_USERNAME'] = \"senthil100695\"\n",
    "os.environ['MLFLOW_TRACKING_PASSWORD'] = \"c6a12eba9766266ebce1f50a4d02ef18796984a2\""
   ]
  },
  {
   "cell_type": "code",
   "execution_count": 3,
   "metadata": {},
   "outputs": [],
   "source": [
    "import tensorflow as tf"
   ]
  },
  {
   "cell_type": "code",
   "execution_count": 4,
   "metadata": {},
   "outputs": [],
   "source": [
    "model = tf.keras.models.load_model('artifacts/training/model.h5')\n"
   ]
  },
  {
   "cell_type": "code",
   "execution_count": 5,
   "metadata": {},
   "outputs": [],
   "source": [
    "from dataclasses import dataclass\n",
    "from pathlib import Path\n",
    "\n",
    "@dataclass(frozen= True)\n",
    "class EvaluationConfig:\n",
    "    path_to_model : Path\n",
    "    training_data : Path\n",
    "    all_params : dict\n",
    "    mlflow_uri : str\n",
    "    params_image_size : list\n",
    "    params_batch_size : int\n",
    "    "
   ]
  },
  {
   "cell_type": "code",
   "execution_count": 8,
   "metadata": {},
   "outputs": [],
   "source": [
    "from cnnClassifier.constants import *\n",
    "from cnnClassifier.utils.common import read_yaml, create_directories, save_json\n"
   ]
  },
  {
   "cell_type": "code",
   "execution_count": 9,
   "metadata": {},
   "outputs": [],
   "source": [
    "class ConfigurationManager:\n",
    "    def __init__(\n",
    "        self,\n",
    "        config_filepath = CONFIG_FILE_PATH,\n",
    "        params_filepath = PARAMS_FILE_PATH):\n",
    "\n",
    "        self.config = read_yaml(config_filepath)\n",
    "        self.params = read_yaml(params_filepath)\n",
    "\n",
    "        create_directories([self.config.artifacts_root])\n",
    "\n",
    "    def get_evaluation_config(self) ->EvaluationConfig:\n",
    "        eval_config = EvaluationConfig(\n",
    "            path_to_model = \"artifacts/training/model.h5\",\n",
    "            training_data = \"artifacts/data_ingestion/kidney-ct-scan-image\",\n",
    "            all_params = self.params,\n",
    "            mlflow_uri = \"https://dagshub.com/senthil100695/End_to_End_Deep_learning_Kidney_tumour_classification_MLFOW_DVC.mlflow\",\n",
    "            params_image_size = self.params.IMAGE_SIZE,\n",
    "            params_batch_size = self.params.BATCH_SIZE\n",
    "        )\n",
    "\n",
    "        return eval_config"
   ]
  },
  {
   "cell_type": "code",
   "execution_count": 11,
   "metadata": {},
   "outputs": [],
   "source": [
    "import os\n",
    "import urllib.request as request\n",
    "import zipfile\n",
    "import mlflow \n",
    "import mlflow.keras\n",
    "from urllib.parse import urlparse"
   ]
  },
  {
   "cell_type": "code",
   "execution_count": 17,
   "metadata": {},
   "outputs": [],
   "source": [
    "class Evaluation:\n",
    "    def __init__(self, config: EvaluationConfig):\n",
    "        self.config = config\n",
    "\n",
    "    def _valid_generator(self):\n",
    "        datagenerator_kwargs = dict(\n",
    "            rescale = 1./255,\n",
    "            validation_split = 0.30\n",
    "        )\n",
    "\n",
    "        dataflow_kwargs = dict(\n",
    "            target_size = self.config.params_image_size[:-1],\n",
    "            batch_size = self.config.params_batch_size,\n",
    "            interpolation = \"bilinear\"\n",
    "        )\n",
    "\n",
    "        valid_datagenerator = tf.keras.preprocessing.image.ImageDataGenerator(\n",
    "            **datagenerator_kwargs\n",
    "        )\n",
    "\n",
    "        self.valid_generator = valid_datagenerator.flow_from_directory(\n",
    "            directory=self.config.training_data,\n",
    "            subset= 'validation',\n",
    "            shuffle= False,\n",
    "            **dataflow_kwargs\n",
    "        )\n",
    "\n",
    "    @staticmethod\n",
    "    def load_model(path: Path) -> tf.keras.Model:\n",
    "        return tf.keras.models.load_model(path)\n",
    "    \n",
    "    def evaluation(self):\n",
    "        self.model = self.load_model(self.config.path_to_model)\n",
    "        self._valid_generator()\n",
    "        self.score = model.evaluate(self.valid_generator)\n",
    "        self.save_score()\n",
    "    \n",
    "    def save_score(self):\n",
    "        scores = {'loss': self.score[0], \"accuracy\": self.score[1]}\n",
    "        save_json(path=Path('scores.json'), data = scores)\n",
    "    \n",
    "    def log_into_mlflow(self):\n",
    "        mlflow.set_registry_uri(self.config.mlflow_uri)\n",
    "        tracking_url_type_store = urlparse(mlflow.get_tracking_uri()).scheme\n",
    "\n",
    "        with mlflow.start_run():\n",
    "            mlflow.log_params(self.config.all_params)\n",
    "            mlflow.log_metrics(\n",
    "                {'loss' : self.score[0], \"accuracy\" : self.score[1]}\n",
    "            )\n",
    "\n",
    "            #model registry does not  work with file store\n",
    "\n",
    "            if tracking_url_type_store != 'file':\n",
    "                mlflow.keras.log_model(self.model, \"model\", registered_model_name='VGG16Model')\n",
    "\n",
    "            else:\n",
    "                mlflow.keras.log_model(self.model, 'model')\n"
   ]
  },
  {
   "cell_type": "code",
   "execution_count": 18,
   "metadata": {},
   "outputs": [
    {
     "name": "stdout",
     "output_type": "stream",
     "text": [
      "[2023-10-10 12:40:49,829: INFO: common: yaml file: config\\config.yaml loaded successfully]\n",
      "[2023-10-10 12:40:55,064: INFO: common: yaml file: params.yaml loaded successfully]\n",
      "[2023-10-10 12:40:56,650: INFO: common: created directory at: artifacts]\n",
      "Found 139 images belonging to 2 classes.\n",
      "9/9 [==============================] - 465s 46s/step - loss: 15.5071 - accuracy: 0.5180\n",
      "[2023-10-10 12:50:30,111: INFO: common: json file saved at: scores.json]\n",
      "[2023-10-10 12:51:34,868: WARNING: connectionpool: Retrying (Retry(total=4, connect=5, read=5, redirect=5, status=5)) after connection broken by 'SSLError(SSLZeroReturnError(6, 'TLS/SSL connection has been closed (EOF) (_ssl.c:1129)'))': /senthil100695/End_to_End_Deep_learning_Kidney_tumour_classification_MLFOW_DVC.mlflow/api/2.0/mlflow/runs/create]\n"
     ]
    },
    {
     "name": "stderr",
     "output_type": "stream",
     "text": [
      "2023/10/10 12:51:46 WARNING mlflow.tensorflow: You are saving a TensorFlow Core model or Keras model without a signature. Inference with mlflow.pyfunc.spark_udf() will not work unless the model's pyfunc representation accepts pandas DataFrames as inference inputs.\n"
     ]
    },
    {
     "name": "stdout",
     "output_type": "stream",
     "text": [
      "[2023-10-10 12:52:29,544: WARNING: save: Found untraced functions such as _jit_compiled_convolution_op, _jit_compiled_convolution_op, _jit_compiled_convolution_op, _jit_compiled_convolution_op, _jit_compiled_convolution_op while saving (showing 5 of 14). These functions will not be directly callable after loading.]\n",
      "INFO:tensorflow:Assets written to: C:\\Users\\senthil\\AppData\\Local\\Temp\\tmpc_gkvhf7\\model\\data\\model\\assets\n",
      "[2023-10-10 12:52:50,829: INFO: builder_impl: Assets written to: C:\\Users\\senthil\\AppData\\Local\\Temp\\tmpc_gkvhf7\\model\\data\\model\\assets]\n"
     ]
    },
    {
     "name": "stderr",
     "output_type": "stream",
     "text": [
      "2023/10/10 12:55:20 WARNING mlflow.utils.environment: Encountered an unexpected error while inferring pip requirements (model URI: C:\\Users\\senthil\\AppData\\Local\\Temp\\tmpc_gkvhf7\\model, flavor: tensorflow), fall back to return ['tensorflow==2.12.0']. Set logging level to DEBUG to see the full traceback.\n",
      "c:\\Users\\senthil\\anaconda3\\envs\\kidney\\lib\\site-packages\\_distutils_hack\\__init__.py:33: UserWarning: Setuptools is replacing distutils.\n",
      "  warnings.warn(\"Setuptools is replacing distutils.\")\n"
     ]
    },
    {
     "name": "stdout",
     "output_type": "stream",
     "text": [
      "[2023-10-10 12:57:44,840: WARNING: connectionpool: Retrying (Retry(total=4, connect=5, read=4, redirect=5, status=5)) after connection broken by 'ReadTimeoutError(\"HTTPSConnectionPool(host='dagshub.com', port=443): Read timed out. (read timeout=120)\")': /senthil100695/End_to_End_Deep_learning_Kidney_tumour_classification_MLFOW_DVC.mlflow/api/2.0/mlflow/runs/get?run_uuid=d50085459e72489090c6139bff7c8e39&run_id=d50085459e72489090c6139bff7c8e39]\n",
      "[2023-10-10 13:02:24,692: WARNING: connectionpool: Retrying (Retry(total=4, connect=5, read=4, redirect=5, status=5)) after connection broken by 'ConnectionResetError(10054, 'An existing connection was forcibly closed by the remote host', None, 10054, None)': /senthil100695/End_to_End_Deep_learning_Kidney_tumour_classification_MLFOW_DVC.mlflow/api/2.0/mlflow-artifacts/artifacts/4071990bd070440c9aa3990e3c52497c/d50085459e72489090c6139bff7c8e39/artifacts/model/data/model/variables/variables.data-00000-of-00001]\n",
      "[2023-10-10 13:02:30,028: WARNING: connectionpool: Retrying (Retry(total=3, connect=4, read=4, redirect=5, status=5)) after connection broken by 'NameResolutionError(\"<urllib3.connection.HTTPSConnection object at 0x000001F3845FD9A0>: Failed to resolve 'dagshub.com' ([Errno 11001] getaddrinfo failed)\")': /senthil100695/End_to_End_Deep_learning_Kidney_tumour_classification_MLFOW_DVC.mlflow/api/2.0/mlflow-artifacts/artifacts/4071990bd070440c9aa3990e3c52497c/d50085459e72489090c6139bff7c8e39/artifacts/model/data/model/variables/variables.data-00000-of-00001]\n",
      "[2023-10-10 13:02:38,969: WARNING: connectionpool: Retrying (Retry(total=2, connect=3, read=4, redirect=5, status=5)) after connection broken by 'NameResolutionError(\"<urllib3.connection.HTTPSConnection object at 0x000001F384758880>: Failed to resolve 'dagshub.com' ([Errno 11001] getaddrinfo failed)\")': /senthil100695/End_to_End_Deep_learning_Kidney_tumour_classification_MLFOW_DVC.mlflow/api/2.0/mlflow-artifacts/artifacts/4071990bd070440c9aa3990e3c52497c/d50085459e72489090c6139bff7c8e39/artifacts/model/data/model/variables/variables.data-00000-of-00001]\n",
      "[2023-10-10 13:02:55,375: WARNING: connectionpool: Retrying (Retry(total=1, connect=2, read=4, redirect=5, status=5)) after connection broken by 'NameResolutionError(\"<urllib3.connection.HTTPSConnection object at 0x000001F3847582E0>: Failed to resolve 'dagshub.com' ([Errno 11001] getaddrinfo failed)\")': /senthil100695/End_to_End_Deep_learning_Kidney_tumour_classification_MLFOW_DVC.mlflow/api/2.0/mlflow-artifacts/artifacts/4071990bd070440c9aa3990e3c52497c/d50085459e72489090c6139bff7c8e39/artifacts/model/data/model/variables/variables.data-00000-of-00001]\n",
      "[2023-10-10 13:03:27,702: WARNING: connectionpool: Retrying (Retry(total=0, connect=1, read=4, redirect=5, status=5)) after connection broken by 'NameResolutionError(\"<urllib3.connection.HTTPSConnection object at 0x000001F384512970>: Failed to resolve 'dagshub.com' ([Errno 11001] getaddrinfo failed)\")': /senthil100695/End_to_End_Deep_learning_Kidney_tumour_classification_MLFOW_DVC.mlflow/api/2.0/mlflow-artifacts/artifacts/4071990bd070440c9aa3990e3c52497c/d50085459e72489090c6139bff7c8e39/artifacts/model/data/model/variables/variables.data-00000-of-00001]\n",
      "[2023-10-10 13:18:02,373: WARNING: connectionpool: Retrying (Retry(total=4, connect=5, read=5, redirect=5, status=5)) after connection broken by 'SSLError(SSLZeroReturnError(6, 'TLS/SSL connection has been closed (EOF) (_ssl.c:1129)'))': /senthil100695/End_to_End_Deep_learning_Kidney_tumour_classification_MLFOW_DVC.mlflow/api/2.0/mlflow/runs/update]\n"
     ]
    },
    {
     "name": "stderr",
     "output_type": "stream",
     "text": [
      "\n",
      "KeyboardInterrupt\n",
      "\n"
     ]
    }
   ],
   "source": [
    "try:\n",
    "    config = ConfigurationManager()\n",
    "    evaluation_config = config.get_evaluation_config()\n",
    "    evaluation = Evaluation(config=evaluation_config)\n",
    "    evaluation.evaluation()\n",
    "    evaluation.log_into_mlflow()\n",
    "\n",
    "except Exception as e:\n",
    "    raise e"
   ]
  },
  {
   "cell_type": "code",
   "execution_count": null,
   "metadata": {},
   "outputs": [],
   "source": []
  }
 ],
 "metadata": {
  "kernelspec": {
   "display_name": "kidney",
   "language": "python",
   "name": "python3"
  },
  "language_info": {
   "codemirror_mode": {
    "name": "ipython",
    "version": 3
   },
   "file_extension": ".py",
   "mimetype": "text/x-python",
   "name": "python",
   "nbconvert_exporter": "python",
   "pygments_lexer": "ipython3",
   "version": "3.9.18"
  },
  "orig_nbformat": 4
 },
 "nbformat": 4,
 "nbformat_minor": 2
}
